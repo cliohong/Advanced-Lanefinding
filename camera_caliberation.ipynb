{
 "cells": [
  {
   "cell_type": "code",
   "execution_count": 5,
   "metadata": {
    "collapsed": true
   },
   "outputs": [],
   "source": [
    "import glob\n",
    "import numpy as np\n",
    "import cv2\n",
    "import matplotlib.pyplot as plt\n",
    "import matplotlib.image as mpimg\n",
    "%matplotlib inline\n",
    "\n",
    "images=glob.glob('/Users/simin/Desktop/CarND-Advanced-Lane-Lines-master /camera_cal/calibration*.jpg')\n"
   ]
  },
  {
   "cell_type": "code",
   "execution_count": 6,
   "metadata": {
    "collapsed": false
   },
   "outputs": [
    {
     "name": "stdout",
     "output_type": "stream",
     "text": [
      "19\n"
     ]
    }
   ],
   "source": [
    "##Compute the camera calibration matrix and distortion coefficients \n",
    "##given a set of chessboard images.\n",
    "def calibration_parameters(images, inner_shape):\n",
    "    ##collect object and image points\n",
    "    objpoints = []\n",
    "    imgpoints = []\n",
    "    draw_imgs=[]\n",
    "    for fname in images:\n",
    "        image=mpimg.imread(fname)\n",
    "        gray=cv2.cvtColor(image,cv2.COLOR_RGB2GRAY)\n",
    "    \n",
    "        # Theoretical Grid.\n",
    "        objp = np.zeros((inner_shape[0] * inner_shape[1], 3), np.float32)\n",
    "        objp[:, :2] = np.mgrid[0:inner_shape[0], 0:inner_shape[1]].T.reshape(-1, 2)\n",
    "        # get corners in each image.\n",
    "        ret, corners= cv2.findChessboardCorners(gray, inner_shape, None)\n",
    "        if ret:\n",
    "            objpoints.append(objp)\n",
    "            imgpoints.append(corners)\n",
    "#         else:\n",
    "#             print('No chessboard found in image!', fname)\n",
    "\n",
    "    # Calibration from image points.\n",
    "    ret, mtx, dist, rvecs, tvecs = cv2.calibrateCamera(objpoints, imgpoints, image.shape[0:2], None, None)\n",
    "        \n",
    "    return mtx, dist\n",
    "\n",
    "def undistort_image(img, mtx, dist):\n",
    "    \n",
    "    undst=cv2.undistort(image, mtx, dist, None, mtx)\n",
    "    return undst\n",
    "\n"
   ]
  },
  {
   "cell_type": "code",
   "execution_count": 11,
   "metadata": {
    "collapsed": false
   },
   "outputs": [],
   "source": [
    "mtx,dist=calibration_parameters(images,inner_shape=(9,6))\n",
    "\n",
    "test_imgs=glob.glob('/Users/simin/Desktop/CarND-Advanced-Lane-Lines-master /test_images/test*.jpg')\n"
   ]
  },
  {
   "cell_type": "code",
   "execution_count": 19,
   "metadata": {
    "collapsed": false
   },
   "outputs": [
    {
     "name": "stdout",
     "output_type": "stream",
     "text": [
      "read image\n",
      "read image\n",
      "read image\n",
      "read image\n",
      "read image\n",
      "read image\n"
     ]
    }
   ],
   "source": [
    "##show undistorted test images\n",
    "count=1\n",
    "for fname in test_imgs:\n",
    "    \n",
    "    image=mpimg.imread(fname)\n",
    "    test_undst=undistort_image(image,mtx,dist)\n",
    "    print('read image')\n",
    "    mpimg.imsave('distortion%d.jpg'%count,test_undst)\n",
    "#     cv2.imwrite('distortion corrected image %d.jpg'%count,test_undst)\n",
    "    count+=1\n",
    "#         plt.imshow(test_undst)\n",
    "#         plt.show()\n",
    "        "
   ]
  },
  {
   "cell_type": "code",
   "execution_count": null,
   "metadata": {
    "collapsed": false
   },
   "outputs": [],
   "source": [
    "import pickle\n",
    "\n",
    "# Save the camera calibration result for later use (we won't worry about rvecs / tvecs)\n",
    "dist_pickle = {}\n",
    "dist_pickle[\"mtx\"] = mtx\n",
    "dist_pickle[\"dist\"] = dist\n",
    "pickle.dump( dist_pickle, open( \"dist_pickle.p\", \"wb\" ) )\n",
    "print('pickle file saved....')"
   ]
  },
  {
   "cell_type": "code",
   "execution_count": null,
   "metadata": {
    "collapsed": true
   },
   "outputs": [],
   "source": []
  }
 ],
 "metadata": {
  "anaconda-cloud": {},
  "kernelspec": {
   "display_name": "Python [conda env:yourNewEnvironment]",
   "language": "python",
   "name": "conda-env-yourNewEnvironment-py"
  },
  "language_info": {
   "codemirror_mode": {
    "name": "ipython",
    "version": 3
   },
   "file_extension": ".py",
   "mimetype": "text/x-python",
   "name": "python",
   "nbconvert_exporter": "python",
   "pygments_lexer": "ipython3",
   "version": "3.5.2"
  }
 },
 "nbformat": 4,
 "nbformat_minor": 1
}
